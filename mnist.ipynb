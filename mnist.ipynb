{
 "cells": [
  {
   "cell_type": "code",
   "execution_count": 1,
   "id": "7dd1daf6",
   "metadata": {
    "_cell_guid": "b1076dfc-b9ad-4769-8c92-a6c4dae69d19",
    "_uuid": "8f2839f25d086af736a60e9eeb907d3b93b6e0e5",
    "execution": {
     "iopub.execute_input": "2023-07-26T15:06:04.790892Z",
     "iopub.status.busy": "2023-07-26T15:06:04.790286Z",
     "iopub.status.idle": "2023-07-26T15:06:04.810556Z",
     "shell.execute_reply": "2023-07-26T15:06:04.809111Z"
    },
    "papermill": {
     "duration": 0.031812,
     "end_time": "2023-07-26T15:06:04.813330",
     "exception": false,
     "start_time": "2023-07-26T15:06:04.781518",
     "status": "completed"
    },
    "tags": []
   },
   "outputs": [
    {
     "name": "stdout",
     "output_type": "stream",
     "text": [
      "/kaggle/input/digit-recognizer/sample_submission.csv\n",
      "/kaggle/input/digit-recognizer/train.csv\n",
      "/kaggle/input/digit-recognizer/test.csv\n"
     ]
    }
   ],
   "source": [
    "# This Python 3 environment comes with many helpful analytics libraries installed\n",
    "# It is defined by the kaggle/python Docker image: https://github.com/kaggle/docker-python\n",
    "# For example, here's several helpful packages to load\n",
    "\n",
    "import numpy as np # linear algebra\n",
    "import pandas as pd # data processing, CSV file I/O (e.g. pd.read_csv)\n",
    "\n",
    "# Input data files are available in the read-only \"../input/\" directory\n",
    "# For example, running this (by clicking run or pressing Shift+Enter) will list all files under the input directory\n",
    "\n",
    "import os\n",
    "for dirname, _, filenames in os.walk('/kaggle/input'):\n",
    "    for filename in filenames:\n",
    "        print(os.path.join(dirname, filename))\n",
    "\n",
    "# You can write up to 20GB to the current directory (/kaggle/working/) that gets preserved as output when you create a version using \"Save & Run All\" \n",
    "# You can also write temporary files to /kaggle/temp/, but they won't be saved outside of the current session"
   ]
  },
  {
   "cell_type": "markdown",
   "id": "46ea3eab",
   "metadata": {
    "papermill": {
     "duration": 0.005427,
     "end_time": "2023-07-26T15:06:04.824994",
     "exception": false,
     "start_time": "2023-07-26T15:06:04.819567",
     "status": "completed"
    },
    "tags": []
   },
   "source": [
    "## Importing the important modules and the training Data "
   ]
  },
  {
   "cell_type": "code",
   "execution_count": 2,
   "id": "d9497d93",
   "metadata": {
    "execution": {
     "iopub.execute_input": "2023-07-26T15:06:04.838631Z",
     "iopub.status.busy": "2023-07-26T15:06:04.838183Z",
     "iopub.status.idle": "2023-07-26T15:06:19.485897Z",
     "shell.execute_reply": "2023-07-26T15:06:19.484524Z"
    },
    "papermill": {
     "duration": 14.658878,
     "end_time": "2023-07-26T15:06:19.489696",
     "exception": false,
     "start_time": "2023-07-26T15:06:04.830818",
     "status": "completed"
    },
    "tags": []
   },
   "outputs": [
    {
     "name": "stderr",
     "output_type": "stream",
     "text": [
      "/opt/conda/lib/python3.10/site-packages/scipy/__init__.py:146: UserWarning: A NumPy version >=1.16.5 and <1.23.0 is required for this version of SciPy (detected version 1.23.5\n",
      "  warnings.warn(f\"A NumPy version >={np_minversion} and <{np_maxversion}\"\n",
      "/opt/conda/lib/python3.10/site-packages/tensorflow_io/python/ops/__init__.py:98: UserWarning: unable to load libtensorflow_io_plugins.so: unable to open file: libtensorflow_io_plugins.so, from paths: ['/opt/conda/lib/python3.10/site-packages/tensorflow_io/python/ops/libtensorflow_io_plugins.so']\n",
      "caused by: ['/opt/conda/lib/python3.10/site-packages/tensorflow_io/python/ops/libtensorflow_io_plugins.so: undefined symbol: _ZN3tsl6StatusC1EN10tensorflow5error4CodeESt17basic_string_viewIcSt11char_traitsIcEENS_14SourceLocationE']\n",
      "  warnings.warn(f\"unable to load libtensorflow_io_plugins.so: {e}\")\n",
      "/opt/conda/lib/python3.10/site-packages/tensorflow_io/python/ops/__init__.py:104: UserWarning: file system plugins are not loaded: unable to open file: libtensorflow_io.so, from paths: ['/opt/conda/lib/python3.10/site-packages/tensorflow_io/python/ops/libtensorflow_io.so']\n",
      "caused by: ['/opt/conda/lib/python3.10/site-packages/tensorflow_io/python/ops/libtensorflow_io.so: undefined symbol: _ZTVN10tensorflow13GcsFileSystemE']\n",
      "  warnings.warn(f\"file system plugins are not loaded: {e}\")\n"
     ]
    }
   ],
   "source": [
    "import keras\n",
    "from keras.datasets import mnist\n",
    "from keras import Model\n",
    "from keras.models import Sequential\n",
    "from keras.layers import Dense, Flatten, Dropout\n",
    "from keras.layers.convolutional import Conv2D, MaxPooling2D\n",
    "from keras.utils import np_utils\n",
    "from tensorflow.keras.utils import to_categorical\n",
    "\n",
    "import matplotlib.pyplot as plt\n",
    "import seaborn as sns\n",
    "import numpy as np\n"
   ]
  },
  {
   "cell_type": "code",
   "execution_count": 3,
   "id": "4cca3139",
   "metadata": {
    "execution": {
     "iopub.execute_input": "2023-07-26T15:06:19.504513Z",
     "iopub.status.busy": "2023-07-26T15:06:19.503741Z",
     "iopub.status.idle": "2023-07-26T15:06:20.836969Z",
     "shell.execute_reply": "2023-07-26T15:06:20.835491Z"
    },
    "papermill": {
     "duration": 1.344391,
     "end_time": "2023-07-26T15:06:20.840169",
     "exception": false,
     "start_time": "2023-07-26T15:06:19.495778",
     "status": "completed"
    },
    "tags": []
   },
   "outputs": [
    {
     "name": "stdout",
     "output_type": "stream",
     "text": [
      "Downloading data from https://storage.googleapis.com/tensorflow/tf-keras-datasets/mnist.npz\n",
      "11490434/11490434 [==============================] - 1s 0us/step\n"
     ]
    }
   ],
   "source": [
    "(x_train,y_train), (x_test,y_test) = mnist.load_data()"
   ]
  },
  {
   "cell_type": "code",
   "execution_count": 4,
   "id": "f454a7c8",
   "metadata": {
    "execution": {
     "iopub.execute_input": "2023-07-26T15:06:20.858597Z",
     "iopub.status.busy": "2023-07-26T15:06:20.858172Z",
     "iopub.status.idle": "2023-07-26T15:06:20.864884Z",
     "shell.execute_reply": "2023-07-26T15:06:20.863477Z"
    },
    "papermill": {
     "duration": 0.019481,
     "end_time": "2023-07-26T15:06:20.868289",
     "exception": false,
     "start_time": "2023-07-26T15:06:20.848808",
     "status": "completed"
    },
    "tags": []
   },
   "outputs": [
    {
     "name": "stdout",
     "output_type": "stream",
     "text": [
      "Train images (60000, 28, 28) \n",
      " Test image (10000, 28, 28)\n"
     ]
    }
   ],
   "source": [
    "print(f\"Train images {x_train.shape} \\n Test image {x_test.shape}\")"
   ]
  },
  {
   "cell_type": "code",
   "execution_count": 5,
   "id": "2a843f74",
   "metadata": {
    "execution": {
     "iopub.execute_input": "2023-07-26T15:06:20.885632Z",
     "iopub.status.busy": "2023-07-26T15:06:20.885184Z",
     "iopub.status.idle": "2023-07-26T15:06:20.899316Z",
     "shell.execute_reply": "2023-07-26T15:06:20.897902Z"
    },
    "papermill": {
     "duration": 0.026603,
     "end_time": "2023-07-26T15:06:20.902585",
     "exception": false,
     "start_time": "2023-07-26T15:06:20.875982",
     "status": "completed"
    },
    "tags": []
   },
   "outputs": [
    {
     "name": "stdout",
     "output_type": "stream",
     "text": [
      "[0 1 2 3 4 5 6 7 8 9]\n",
      "[5923 6742 5958 6131 5842 5421 5918 6265 5851 5949]\n"
     ]
    }
   ],
   "source": [
    "(number,counts) = np.unique(y_train, return_counts = True)\n",
    "print(number)\n",
    "print(counts)"
   ]
  },
  {
   "cell_type": "code",
   "execution_count": 6,
   "id": "eef9a886",
   "metadata": {
    "execution": {
     "iopub.execute_input": "2023-07-26T15:06:20.922249Z",
     "iopub.status.busy": "2023-07-26T15:06:20.921842Z",
     "iopub.status.idle": "2023-07-26T15:06:21.736140Z",
     "shell.execute_reply": "2023-07-26T15:06:21.735004Z"
    },
    "papermill": {
     "duration": 0.827179,
     "end_time": "2023-07-26T15:06:21.739673",
     "exception": false,
     "start_time": "2023-07-26T15:06:20.912494",
     "status": "completed"
    },
    "tags": []
   },
   "outputs": [
    {
     "data": {
      "image/png": "[encoded data removed]",
      "text/plain": [
       "<Figure size 640x480 with 4 Axes>"
      ]
     },
     "metadata": {},
     "output_type": "display_data"
    }
   ],
   "source": [
    "\n",
    "plt.subplot(221)\n",
    "plt.imshow(x_train[0],cmap = 'gray')\n",
    "plt.subplot(222)\n",
    "plt.imshow(x_train[1],cmap = 'gray')\n",
    "plt.subplot(223)\n",
    "plt.imshow(x_train[2],cmap = 'gray')\n",
    "plt.subplot(224)\n",
    "plt.imshow(x_train[3],cmap = 'gray')\n",
    "plt.show()"
   ]
  },
  {
   "cell_type": "markdown",
   "id": "6edfaf55",
   "metadata": {
    "papermill": {
     "duration": 0.009052,
     "end_time": "2023-07-26T15:06:21.760339",
     "exception": false,
     "start_time": "2023-07-26T15:06:21.751287",
     "status": "completed"
    },
    "tags": []
   },
   "source": [
    "## Basic model"
   ]
  },
  {
   "cell_type": "code",
   "execution_count": 7,
   "id": "c9dd0ed1",
   "metadata": {
    "execution": {
     "iopub.execute_input": "2023-07-26T15:06:21.782342Z",
     "iopub.status.busy": "2023-07-26T15:06:21.780774Z",
     "iopub.status.idle": "2023-07-26T15:06:22.027734Z",
     "shell.execute_reply": "2023-07-26T15:06:22.026558Z"
    },
    "papermill": {
     "duration": 0.260456,
     "end_time": "2023-07-26T15:06:22.031229",
     "exception": false,
     "start_time": "2023-07-26T15:06:21.770773",
     "status": "completed"
    },
    "tags": []
   },
   "outputs": [],
   "source": [
    "model = Sequential()\n",
    "model.add(Flatten(input_shape = (28,28)))\n",
    "model.add(Dense(128,activation = 'relu'))\n",
    "model.add(Dense(10,activation = 'softmax'))\n",
    "model.compile(loss = 'sparse_categorical_crossentropy',optimizer = 'adam',metrics = ['accuracy'])"
   ]
  },
  {
   "cell_type": "code",
   "execution_count": 8,
   "id": "eac4a25f",
   "metadata": {
    "execution": {
     "iopub.execute_input": "2023-07-26T15:06:22.055858Z",
     "iopub.status.busy": "2023-07-26T15:06:22.054276Z",
     "iopub.status.idle": "2023-07-26T15:11:45.028791Z",
     "shell.execute_reply": "2023-07-26T15:11:45.027411Z"
    },
    "papermill": {
     "duration": 322.989289,
     "end_time": "2023-07-26T15:11:45.032009",
     "exception": false,
     "start_time": "2023-07-26T15:06:22.042720",
     "status": "completed"
    },
    "tags": []
   },
   "outputs": [
    {
     "name": "stdout",
     "output_type": "stream",
     "text": [
      "Epoch 1/37\n",
      "1875/1875 [==============================] - 9s 4ms/step - loss: 2.5027 - accuracy: 0.8518\n",
      "Epoch 2/37\n",
      "1875/1875 [==============================] - 8s 4ms/step - loss: 0.4376 - accuracy: 0.9004\n",
      "Epoch 3/37\n",
      "1875/1875 [==============================] - 8s 4ms/step - loss: 0.3255 - accuracy: 0.9234\n",
      "Epoch 4/37\n",
      "1875/1875 [==============================] - 8s 4ms/step - loss: 0.2673 - accuracy: 0.9330\n",
      "Epoch 5/37\n",
      "1875/1875 [==============================] - 8s 4ms/step - loss: 0.2456 - accuracy: 0.9389\n",
      "Epoch 6/37\n",
      "1875/1875 [==============================] - 8s 4ms/step - loss: 0.2240 - accuracy: 0.9435\n",
      "Epoch 7/37\n",
      "1875/1875 [==============================] - 8s 4ms/step - loss: 0.2244 - accuracy: 0.9475\n",
      "Epoch 8/37\n",
      "1875/1875 [==============================] - 8s 4ms/step - loss: 0.1970 - accuracy: 0.9535\n",
      "Epoch 9/37\n",
      "1875/1875 [==============================] - 8s 4ms/step - loss: 0.1899 - accuracy: 0.9547\n",
      "Epoch 10/37\n",
      "1875/1875 [==============================] - 8s 4ms/step - loss: 0.1982 - accuracy: 0.9559\n",
      "Epoch 11/37\n",
      "1875/1875 [==============================] - 8s 4ms/step - loss: 0.1809 - accuracy: 0.9581\n",
      "Epoch 12/37\n",
      "1875/1875 [==============================] - 8s 4ms/step - loss: 0.1755 - accuracy: 0.9596\n",
      "Epoch 13/37\n",
      "1875/1875 [==============================] - 8s 4ms/step - loss: 0.1761 - accuracy: 0.9603\n",
      "Epoch 14/37\n",
      "1875/1875 [==============================] - 8s 4ms/step - loss: 0.1704 - accuracy: 0.9614\n",
      "Epoch 15/37\n",
      "1875/1875 [==============================] - 8s 4ms/step - loss: 0.1653 - accuracy: 0.9629\n",
      "Epoch 16/37\n",
      "1875/1875 [==============================] - 8s 4ms/step - loss: 0.1633 - accuracy: 0.9626\n",
      "Epoch 17/37\n",
      "1875/1875 [==============================] - 7s 4ms/step - loss: 0.1564 - accuracy: 0.9641\n",
      "Epoch 18/37\n",
      "1875/1875 [==============================] - 8s 4ms/step - loss: 0.1588 - accuracy: 0.9653\n",
      "Epoch 19/37\n",
      "1875/1875 [==============================] - 8s 4ms/step - loss: 0.1602 - accuracy: 0.9659\n",
      "Epoch 20/37\n",
      "1875/1875 [==============================] - 8s 4ms/step - loss: 0.1469 - accuracy: 0.9665\n",
      "Epoch 21/37\n",
      "1875/1875 [==============================] - 7s 4ms/step - loss: 0.1509 - accuracy: 0.9669\n",
      "Epoch 22/37\n",
      "1875/1875 [==============================] - 8s 4ms/step - loss: 0.1482 - accuracy: 0.9678\n",
      "Epoch 23/37\n",
      "1875/1875 [==============================] - 8s 4ms/step - loss: 0.1465 - accuracy: 0.9679\n",
      "Epoch 24/37\n",
      "1875/1875 [==============================] - 8s 4ms/step - loss: 0.1417 - accuracy: 0.9695\n",
      "Epoch 25/37\n",
      "1875/1875 [==============================] - 8s 4ms/step - loss: 0.1438 - accuracy: 0.9698\n",
      "Epoch 26/37\n",
      "1875/1875 [==============================] - 8s 4ms/step - loss: 0.1433 - accuracy: 0.9690\n",
      "Epoch 27/37\n",
      "1875/1875 [==============================] - 7s 4ms/step - loss: 0.1419 - accuracy: 0.9704\n",
      "Epoch 28/37\n",
      "1875/1875 [==============================] - 8s 4ms/step - loss: 0.1389 - accuracy: 0.9714\n",
      "Epoch 29/37\n",
      "1875/1875 [==============================] - 8s 4ms/step - loss: 0.1342 - accuracy: 0.9712\n",
      "Epoch 30/37\n",
      "1875/1875 [==============================] - 9s 5ms/step - loss: 0.1385 - accuracy: 0.9719\n",
      "Epoch 31/37\n",
      "1875/1875 [==============================] - 8s 4ms/step - loss: 0.1364 - accuracy: 0.9716\n",
      "Epoch 32/37\n",
      "1875/1875 [==============================] - 8s 4ms/step - loss: 0.1413 - accuracy: 0.9710\n",
      "Epoch 33/37\n",
      "1875/1875 [==============================] - 8s 4ms/step - loss: 0.1286 - accuracy: 0.9724\n",
      "Epoch 34/37\n",
      "1875/1875 [==============================] - 8s 4ms/step - loss: 0.1369 - accuracy: 0.9718\n",
      "Epoch 35/37\n",
      "1875/1875 [==============================] - 8s 4ms/step - loss: 0.1313 - accuracy: 0.9729\n",
      "Epoch 36/37\n",
      "1875/1875 [==============================] - 8s 4ms/step - loss: 0.1225 - accuracy: 0.9742\n",
      "Epoch 37/37\n",
      "1875/1875 [==============================] - 8s 4ms/step - loss: 0.1213 - accuracy: 0.9738\n"
     ]
    }
   ],
   "source": [
    "history = model.fit(x_train,y_train,epochs = 37)"
   ]
  },
  {
   "cell_type": "code",
   "execution_count": 9,
   "id": "23f780b3",
   "metadata": {
    "execution": {
     "iopub.execute_input": "2023-07-26T15:11:46.107436Z",
     "iopub.status.busy": "2023-07-26T15:11:46.106980Z",
     "iopub.status.idle": "2023-07-26T15:11:47.158004Z",
     "shell.execute_reply": "2023-07-26T15:11:47.156366Z"
    },
    "papermill": {
     "duration": 1.590794,
     "end_time": "2023-07-26T15:11:47.161370",
     "exception": false,
     "start_time": "2023-07-26T15:11:45.570576",
     "status": "completed"
    },
    "tags": []
   },
   "outputs": [
    {
     "name": "stdout",
     "output_type": "stream",
     "text": [
      "313/313 [==============================] - 1s 2ms/step - loss: 0.5409 - accuracy: 0.9547\n",
      "0.5409368872642517 0.9546999931335449\n"
     ]
    }
   ],
   "source": [
    "v_loss,v_acc = model.evaluate(x_test,y_test)\n",
    "print(v_loss,v_acc)"
   ]
  },
  {
   "cell_type": "markdown",
   "id": "2dc587c6",
   "metadata": {
    "papermill": {
     "duration": 0.547163,
     "end_time": "2023-07-26T15:11:48.328812",
     "exception": false,
     "start_time": "2023-07-26T15:11:47.781649",
     "status": "completed"
    },
    "tags": []
   },
   "source": [
    "## Model after Preprocessing "
   ]
  },
  {
   "cell_type": "code",
   "execution_count": 10,
   "id": "8e506743",
   "metadata": {
    "execution": {
     "iopub.execute_input": "2023-07-26T15:11:49.410456Z",
     "iopub.status.busy": "2023-07-26T15:11:49.409229Z",
     "iopub.status.idle": "2023-07-26T15:17:15.820107Z",
     "shell.execute_reply": "2023-07-26T15:17:15.818694Z"
    },
    "papermill": {
     "duration": 326.947061,
     "end_time": "2023-07-26T15:17:15.823743",
     "exception": false,
     "start_time": "2023-07-26T15:11:48.876682",
     "status": "completed"
    },
    "tags": []
   },
   "outputs": [
    {
     "name": "stdout",
     "output_type": "stream",
     "text": [
      "Epoch 1/10\n",
      "422/422 [==============================] - 30s 67ms/step - loss: 0.3288 - accuracy: 0.8991 - val_loss: 0.0648 - val_accuracy: 0.9803\n",
      "Epoch 2/10\n",
      "422/422 [==============================] - 28s 66ms/step - loss: 0.1100 - accuracy: 0.9673 - val_loss: 0.0462 - val_accuracy: 0.9863\n",
      "Epoch 3/10\n",
      "422/422 [==============================] - 28s 66ms/step - loss: 0.0807 - accuracy: 0.9765 - val_loss: 0.0407 - val_accuracy: 0.9892\n",
      "Epoch 4/10\n",
      "422/422 [==============================] - 27s 65ms/step - loss: 0.0671 - accuracy: 0.9800 - val_loss: 0.0363 - val_accuracy: 0.9890\n",
      "Epoch 5/10\n",
      "422/422 [==============================] - 27s 64ms/step - loss: 0.0554 - accuracy: 0.9829 - val_loss: 0.0369 - val_accuracy: 0.9893\n",
      "Epoch 6/10\n",
      "422/422 [==============================] - 27s 64ms/step - loss: 0.0473 - accuracy: 0.9852 - val_loss: 0.0375 - val_accuracy: 0.9893\n",
      "Epoch 7/10\n",
      "422/422 [==============================] - 27s 64ms/step - loss: 0.0409 - accuracy: 0.9875 - val_loss: 0.0293 - val_accuracy: 0.9913\n",
      "Epoch 8/10\n",
      "422/422 [==============================] - 28s 66ms/step - loss: 0.0392 - accuracy: 0.9885 - val_loss: 0.0294 - val_accuracy: 0.9923\n",
      "Epoch 9/10\n",
      "422/422 [==============================] - 26s 62ms/step - loss: 0.0329 - accuracy: 0.9901 - val_loss: 0.0318 - val_accuracy: 0.9913\n",
      "Epoch 10/10\n",
      "422/422 [==============================] - 26s 62ms/step - loss: 0.0319 - accuracy: 0.9896 - val_loss: 0.0312 - val_accuracy: 0.9922\n",
      "313/313 [==============================] - 2s 8ms/step - loss: 0.0245 - accuracy: 0.9923\n",
      "Test loss: 0.0245, Test accuracy: 0.9923\n"
     ]
    }
   ],
   "source": [
    "import numpy as np\n",
    "import tensorflow as tf\n",
    "from tensorflow.keras.datasets import mnist\n",
    "from tensorflow.keras.models import Sequential\n",
    "from tensorflow.keras.layers import Conv2D, MaxPooling2D, Flatten, Dense, Dropout\n",
    "from tensorflow.keras.utils import to_categorical\n",
    "\n",
    "# Load the MNIST dataset\n",
    "(x_train, y_train), (x_test, y_test) = mnist.load_data()\n",
    "\n",
    "# Preprocess the data\n",
    "x_train = x_train.astype('float32') / 255.0\n",
    "x_test = x_test.astype('float32') / 255.0\n",
    "\n",
    "# Reshape the data to have a single channel (MNIST images are grayscale)\n",
    "x_train = x_train.reshape(-1, 28, 28, 1)\n",
    "x_test = x_test.reshape(-1, 28, 28, 1)\n",
    "\n",
    "# One-hot encode the labels\n",
    "y_train = to_categorical(y_train, 10)\n",
    "y_test = to_categorical(y_test, 10)\n",
    "\n",
    "# Create the CNN model\n",
    "model = Sequential()\n",
    "\n",
    "model.add(Conv2D(32, kernel_size=(3, 3), activation='relu', input_shape=(28, 28, 1)))\n",
    "model.add(MaxPooling2D(pool_size=(2, 2)))\n",
    "model.add(Conv2D(64, kernel_size=(3, 3), activation='relu'))\n",
    "model.add(MaxPooling2D(pool_size=(2, 2)))\n",
    "model.add(Flatten())\n",
    "model.add(Dense(128, activation='relu'))\n",
    "model.add(Dropout(0.5))\n",
    "model.add(Dense(10, activation='softmax'))\n",
    "\n",
    "# Compile the model\n",
    "model.compile(loss='categorical_crossentropy', optimizer='adam', metrics=['accuracy'])\n",
    "\n",
    "# Train the model\n",
    "model.fit(x_train, y_train, epochs=10, batch_size=128, validation_split=0.1)\n",
    "\n",
    "# Evaluate the model on the test data\n",
    "loss, accuracy = model.evaluate(x_test, y_test)\n",
    "print(f'Test loss: {loss:.4f}, Test accuracy: {accuracy:.4f}')\n"
   ]
  },
  {
   "cell_type": "code",
   "execution_count": 11,
   "id": "fe032721",
   "metadata": {
    "execution": {
     "iopub.execute_input": "2023-07-26T15:17:17.796408Z",
     "iopub.status.busy": "2023-07-26T15:17:17.795984Z",
     "iopub.status.idle": "2023-07-26T15:17:19.959252Z",
     "shell.execute_reply": "2023-07-26T15:17:19.956907Z"
    },
    "papermill": {
     "duration": 3.097986,
     "end_time": "2023-07-26T15:17:19.962378",
     "exception": false,
     "start_time": "2023-07-26T15:17:16.864392",
     "status": "completed"
    },
    "tags": []
   },
   "outputs": [
    {
     "name": "stdout",
     "output_type": "stream",
     "text": [
      "acc: 0.9922999739646912\n",
      "[0.024502817541360855, 0.9922999739646912]\n"
     ]
    }
   ],
   "source": [
    "scores = model.evaluate(x_test,y_test, verbose = 0)\n",
    "print('acc:',scores[1])\n",
    "print(scores)"
   ]
  },
  {
   "cell_type": "code",
   "execution_count": 12,
   "id": "c7c7c13e",
   "metadata": {
    "execution": {
     "iopub.execute_input": "2023-07-26T15:17:21.955789Z",
     "iopub.status.busy": "2023-07-26T15:17:21.954591Z",
     "iopub.status.idle": "2023-07-26T15:17:24.616846Z",
     "shell.execute_reply": "2023-07-26T15:17:24.615479Z"
    },
    "papermill": {
     "duration": 3.693095,
     "end_time": "2023-07-26T15:17:24.619678",
     "exception": false,
     "start_time": "2023-07-26T15:17:20.926583",
     "status": "completed"
    },
    "tags": []
   },
   "outputs": [
    {
     "name": "stdout",
     "output_type": "stream",
     "text": [
      "313/313 [==============================] - 2s 7ms/step - loss: 0.0245 - accuracy: 0.9923\n",
      "Test accuracy: 0.9922999739646912\n"
     ]
    }
   ],
   "source": [
    "test_loss, test_accuracy = model.evaluate(x_test, y_test)\n",
    "print(\"Test accuracy:\", test_accuracy)\n"
   ]
  }
 ],
 "metadata": {
  "kernelspec": {
   "display_name": "Python 3",
   "language": "python",
   "name": "python3"
  },
  "language_info": {
   "codemirror_mode": {
    "name": "ipython",
    "version": 3
   },
   "file_extension": ".py",
   "mimetype": "text/x-python",
   "name": "python",
   "nbconvert_exporter": "python",
   "pygments_lexer": "ipython3",
   "version": "3.10.12"
  },
  "papermill": {
   "default_parameters": {},
   "duration": 697.530659,
   "end_time": "2023-07-26T15:17:28.232237",
   "environment_variables": {},
   "exception": null,
   "input_path": "__notebook__.ipynb",
   "output_path": "__notebook__.ipynb",
   "parameters": {},
   "start_time": "2023-07-26T15:05:50.701578",
   "version": "2.4.0"
  }
 },
 "nbformat": 4,
 "nbformat_minor": 5
}
